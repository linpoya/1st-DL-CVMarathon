{
 "cells": [
  {
   "cell_type": "markdown",
   "metadata": {},
   "source": [
    "# API 資料串接 - 以 Dcard API 實作範例\n",
    "\n",
    "* 了解 Dcard API 使用方式與回傳內容\n",
    "* 撰寫程式存取 API 且解析 JSON 格式資料\n"
   ]
  },
  {
   "cell_type": "markdown",
   "metadata": {},
   "source": [
    "## 作業目標\n",
    "\n",
    "* 請利用 API: https://www.dcard.tw/_api/forums/pet/posts?popular=true 回答下列問題：\n",
    "\n",
    "1. 這個 API 一次會回傳幾筆資料？每一筆資料包含哪些欄位？\n",
    "2. 取出每一筆資料的「標題」、「貼文時間」、「留言人數」、「按讚人數」\n",
    "3. 計算熱門/非熱門文章的「平均留言人數」與「平均按讚人數」"
   ]
  },
  {
   "cell_type": "code",
   "execution_count": 1,
   "metadata": {},
   "outputs": [
    {
     "data": {
      "text/plain": [
       "'\\nYour Code\\n'"
      ]
     },
     "execution_count": 1,
     "metadata": {},
     "output_type": "execute_result"
    }
   ],
   "source": [
    "# 1. 這個 API 一次會回傳幾筆資料？每一筆資料包含哪些欄位？\n",
    "\n",
    "30筆資料\n"
   ]
  },
  {
   "cell_type": "code",
   "execution_count": 1,
   "metadata": {},
   "outputs": [
    {
     "name": "stdout",
     "output_type": "stream",
     "text": [
      "貓咬斷姻緣線\n",
      "2020-12-06T12:34:56.475Z\n",
      "49\n",
      "857\n",
      "養了兩隻電視兒童\n",
      "2020-12-06T05:07:05.940Z\n",
      "17\n",
      "437\n",
      "家裡這是下雪了嗎ಠ_ಠ\n",
      "2020-12-06T06:34:48.080Z\n",
      "12\n",
      "390\n",
      "原來是狐獴啊！我以為是貓\n",
      "2020-12-06T14:36:54.840Z\n",
      "10\n",
      "272\n",
      "我帶了一隻迷你豬回來（附圖）\n",
      "2020-12-07T00:54:11.021Z\n",
      "19\n",
      "269\n",
      "家裡不能養貓所以玩街貓\n",
      "2020-12-06T06:43:16.982Z\n",
      "42\n",
      "171\n",
      "好消息！ 北市動物園失蹤的食蟻獸「小紅」找到了\n",
      "2020-12-06T14:29:01.527Z\n",
      "6\n",
      "82\n",
      "貓困在貓砂盆被揍(@_@)\n",
      "2020-12-06T12:04:37.328Z\n",
      "5\n",
      "74\n",
      "大家好我叫棉花糖我是一隻櫻桃鴨🦆\n",
      "2020-12-06T14:43:24.419Z\n",
      "11\n",
      "73\n",
      "喜歡上電腦桌的貓\n",
      "2020-12-06T14:22:11.718Z\n",
      "27\n",
      "72\n",
      "你可憐的寵物鼠鳥\n",
      "2020-12-06T03:02:00.563Z\n",
      "5\n",
      "64\n",
      "討論）餵食浪貓、浪狗成災誰負責？\n",
      "2020-12-06T02:07:42.900Z\n",
      "23\n",
      "55\n",
      "貓咪天空步道進階版\n",
      "2020-12-06T08:41:09.903Z\n",
      "3\n",
      "33\n",
      "貓瘋社團有事的人是不是很多\n",
      "2020-12-06T02:22:35.288Z\n",
      "21\n",
      "32\n",
      "大家養過的貓貓\n",
      "2020-12-06T08:05:06.954Z\n",
      "3\n",
      "30\n",
      "#新北#幼貓送養\n",
      "2020-12-06T14:58:40.897Z\n",
      "5\n",
      "25\n",
      "轟趴後的樣子（心酸自己吞）\n",
      "2020-12-06T15:08:36.581Z\n",
      "0\n",
      "20\n",
      "我們的崩壞照來了‼️‼️（害怕誤入⚠️⚠️\n",
      "2020-12-07T00:15:23.885Z\n",
      "0\n",
      "19\n",
      "明顯變胖\n",
      "2020-12-06T09:54:16.136Z\n",
      "1\n",
      "19\n",
      "吹暖氣的貓\n",
      "2020-12-06T08:29:07.559Z\n",
      "1\n",
      "17\n",
      "貓咪在家中消失了\n",
      "2020-12-06T18:31:00.992Z\n",
      "11\n",
      "13\n",
      "是我太玻璃了嗎...\n",
      "2020-12-07T08:18:17.811Z\n",
      "3\n",
      "11\n",
      "祂\n",
      "2020-12-07T06:55:28.835Z\n",
      "0\n",
      "11\n",
      "是有多不甘願😂\n",
      "2020-12-07T06:44:51.821Z\n",
      "0\n",
      "11\n",
      "朋友的貓生病硬要遛貓\n",
      "2020-12-07T06:43:42.476Z\n",
      "0\n",
      "11\n",
      "倉鼠挑食 該換牌子嗎\n",
      "2020-12-07T06:18:03.585Z\n",
      "4\n",
      "11\n",
      "大家去看「十二夜2」了嗎？\n",
      "2020-12-06T16:39:17.248Z\n",
      "3\n",
      "11\n",
      "小貓貓醜照捕捉！\n",
      "2020-12-07T08:22:54.701Z\n",
      "0\n",
      "10\n",
      "寵物溝通練習 徵10名個案\n",
      "2020-12-07T06:14:23.289Z\n",
      "4\n",
      "10\n",
      "寵物友善餐廳 問卷調查\n",
      "2020-12-07T05:52:37.556Z\n",
      "0\n",
      "10\n"
     ]
    }
   ],
   "source": [
    "# 2. 取出每一筆資料的「標題」、「貼文時間」、「留言人數」、「按讚人數」\n",
    "\n",
    "import requests\n",
    "r = requests.get('https://www.dcard.tw/_api/forums/pet/posts?popular=true')\n",
    "response = r.text\n",
    "\n",
    "response\n",
    "\n",
    "import json\n",
    "data = json.loads(response)\n",
    "\n",
    "for d in data:\n",
    "    print(d['title'])\n",
    "    print(d['createdAt'])\n",
    "    print(d['commentCount'])\n",
    "    print(d['likeCount'])"
   ]
  },
  {
   "cell_type": "code",
   "execution_count": 2,
   "metadata": {},
   "outputs": [
    {
     "name": "stdout",
     "output_type": "stream",
     "text": [
      "9.5 104.0\n"
     ]
    }
   ],
   "source": [
    "# 3. 計算熱門/非熱門文章的「平均留言人數」與「平均按讚人數」\n",
    "\n",
    "commentCount = 0\n",
    "likeCount = 0\n",
    "for d in data:\n",
    "    commentCount += d['commentCount']\n",
    "    likeCount += d['likeCount']\n",
    "\n",
    "print(commentCount/len(data), likeCount/len(data))"
   ]
  },
  {
   "cell_type": "code",
   "execution_count": null,
   "metadata": {},
   "outputs": [],
   "source": []
  },
  {
   "cell_type": "code",
   "execution_count": null,
   "metadata": {},
   "outputs": [],
   "source": []
  }
 ],
 "metadata": {
  "kernelspec": {
   "display_name": "Python 3",
   "language": "python",
   "name": "python3"
  },
  "language_info": {
   "codemirror_mode": {
    "name": "ipython",
    "version": 3
   },
   "file_extension": ".py",
   "mimetype": "text/x-python",
   "name": "python",
   "nbconvert_exporter": "python",
   "pygments_lexer": "ipython3",
   "version": "3.8.3"
  }
 },
 "nbformat": 4,
 "nbformat_minor": 2
}
