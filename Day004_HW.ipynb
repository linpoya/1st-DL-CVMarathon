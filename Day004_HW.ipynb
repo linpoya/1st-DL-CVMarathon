{
 "cells": [
  {
   "cell_type": "markdown",
   "metadata": {
    "colab_type": "text",
    "id": "uSf0mVenUdOf"
   },
   "source": [
    "# 利用 Python 存取 API\n",
    "\n",
    "\n",
    "* 了解 Server Client 的架構與溝通方法\n",
    "* 知道 HTTP Request & Response 的內容\n",
    "* 什麼是 API？如何用 Python 程式存取 API 資料\n"
   ]
  },
  {
   "cell_type": "markdown",
   "metadata": {
    "colab_type": "text",
    "id": "FwvxVPZuUdOh"
   },
   "source": [
    "## 作業目標\n",
    "\n",
    "* 比較一下範例檔案中的「r.text」與「json.loads(r.text)」讀出來的內容有什麼差異\n",
    "* 自行尋找一個合適的 API 接口做練習，並且查看其回傳內容\n",
    "    * https://cat-fact.herokuapp.com/facts (來源：https://alexwohlbruck.github.io/cat-facts/)\n",
    "    * http://odata.wra.gov.tw/v4/RealtimeWaterLevel (來源：https://data.gov.tw/dataset/25768)\n",
    "\n"
   ]
  },
  {
   "cell_type": "markdown",
   "metadata": {
    "colab_type": "text",
    "id": "r5GIjwYuUdOi"
   },
   "source": [
    "### 比較一下範例檔案中的「r.text」與「json.loads(r.text)」讀出來的內容有什麼差異"
   ]
  },
  {
   "cell_type": "code",
   "execution_count": 0,
   "metadata": {
    "colab": {},
    "colab_type": "code",
    "id": "sVxW3MTeUdOj",
    "outputId": "a83e3e3b-eb9d-4c6d-d5d2-3a2ef30cee87"
   },
   "outputs": [
    {
     "data": {
      "text/plain": [
       "'\\nYour Code\\n'"
      ]
     },
     "execution_count": 3,
     "metadata": {
      "tags": []
     },
     "output_type": "execute_result"
    }
   ],
   "source": [
    "'''\n",
    "Your Code\n",
    "'''"
   ]
  },
  {
   "cell_type": "markdown",
   "metadata": {
    "colab_type": "text",
    "id": "eJwMGD6XUdOn"
   },
   "source": [
    "### 自行尋找一個合適的 API 接口做練習，並且查看其回傳內容\n",
    "\n",
    "* https://cat-fact.herokuapp.com/facts (來源：https://alexwohlbruck.github.io/cat-facts/)\n",
    "* http://odata.wra.gov.tw/v4/RealtimeWaterLevel (來源：https://data.gov.tw/dataset/25768)\n"
   ]
  },
  {
   "cell_type": "code",
   "execution_count": 3,
   "metadata": {
    "colab": {},
    "colab_type": "code",
    "id": "XDvzxwA0UdOn",
    "outputId": "154b29e6-cd0d-48b9-e659-6e9a3f55e274"
   },
   "outputs": [
    {
     "data": {
      "text/plain": [
       "'<!DOCTYPE html>\\n<html lang=\"en-US\">\\n  <head>\\n    <meta charset=\"UTF-8\">\\n\\n<!-- Begin Jekyll SEO tag v2.6.1 -->\\n<title>cat-facts | Daily cat facts!</title>\\n<meta name=\"generator\" content=\"Jekyll v3.8.5\" />\\n<meta property=\"og:title\" content=\"cat-facts\" />\\n<meta property=\"og:locale\" content=\"en_US\" />\\n<meta name=\"description\" content=\"Daily cat facts!\" />\\n<meta property=\"og:description\" content=\"Daily cat facts!\" />\\n<link rel=\"canonical\" href=\"https://alexwohlbruck.github.io/cat-facts/\" />\\n<meta property=\"og:url\" content=\"https://alexwohlbruck.github.io/cat-facts/\" />\\n<meta property=\"og:site_name\" content=\"cat-facts\" />\\n<script type=\"application/ld+json\">\\n{\"@type\":\"WebSite\",\"headline\":\"cat-facts\",\"url\":\"https://alexwohlbruck.github.io/cat-facts/\",\"name\":\"cat-facts\",\"description\":\"Daily cat facts!\",\"@context\":\"https://schema.org\"}</script>\\n<!-- End Jekyll SEO tag -->\\n\\n    <meta name=\"viewport\" content=\"width=device-width, initial-scale=1\">\\n    <meta name=\"theme-color\" content=\"#157878\">\\n    <link rel=\"stylesheet\" href=\"/cat-facts/assets/css/style.css?v=6293a35acee17eee095f3364f4d9e88301841a47\">\\n  </head>\\n  <body>\\n    <section class=\"page-header\">\\n      <h1 class=\"project-name\">cat-facts</h1>\\n      <h2 class=\"project-tagline\">Daily cat facts!</h2>\\n      \\n        <a href=\"https://github.com/alexwohlbruck/cat-facts\" class=\"btn\">View on GitHub</a>\\n      \\n      \\n    </section>\\n\\n    <section class=\"main-content\">\\n      <p><img src=\"http://i.imgur.com/9RGJ5Ea.png\" alt=\"Cat Facts logo\" /></p>\\n\\n<p>Using a combination of Node.js, Angular, and Tasker, this app will combine APIs and Services from the web to do just one thing… send cat facts.</p>\\n\\n<h2 id=\"features\">Features</h2>\\n<ul>\\n  <li>Add and view your personal list of fact recipients</li>\\n  <li>Send a cat fact via text message every day</li>\\n  <li>Countdown clock until next fact is sent</li>\\n  <li>Catbot that auto-replies when recipients text back</li>\\n  <li>View the catversation between Catbot and your recipients</li>\\n  <li>Add your own cat facts, and upvote others. The highest upvoted fact gets send out that day!</li>\\n  <li>Quick copy-and-paste-able cat facts with the “Get Fact” button</li>\\n  <li>Add recipients by talking to the Catbot!</li>\\n  <li>Import all of your Google contacts at once</li>\\n  <li>Admin console panel for managing the app</li>\\n  <li>Twitter bot</li>\\n  <li>Developer API</li>\\n</ul>\\n\\n<h2 id=\"support-cat-facts\">Support Cat Facts</h2>\\n<p>Cat Facts is ad free and available to use without cost. Help me keep it running by <a href=\"http://bit.ly/2tC599V\">donating here</a>. :)</p>\\n\\n<h2 id=\"getting-started\">Getting Started</h2>\\n\\n<h3 id=\"official-website\">Official website</h3>\\n<p><a href=\"https://cat-fact.herokuapp.com\">Visit</a> the site  and start messing with your friends!</p>\\n\\n<h3 id=\"api-documentation\">API Documentation</h3>\\n<p><a href=\"https://alexwohlbruck.github.io/cat-facts/docs\">Start developing!</a></p>\\n\\n<p><a href=\"https://alexwohlbruck.github.io/cat-facts\">Docs homepage</a></p>\\n\\n<h3 id=\"other-sites\">Other sites</h3>\\n<p>Follow Cat Facts on <a href=\"https://twitter.com/datos_de_gatos\">Twitter</a></p>\\n\\n<p>Talk to the DialogFlow bot <a href=\"https://bot.dialogflow.com/d7b47381-1453-4b31-a20c-9825de80cf88\">here</a></p>\\n\\n<h3 id=\"setup\">Setup</h3>\\n<p>If you want to set up your own version of Cat Facts, follow the instructions in this <a href=\"https://alexwohlbruck.github.io/cat-facts/docs/setup\">guide</a></p>\\n\\n\\n      <footer class=\"site-footer\">\\n        \\n          <span class=\"site-footer-owner\"><a href=\"https://github.com/alexwohlbruck/cat-facts\">cat-facts</a> is maintained by <a href=\"https://github.com/alexwohlbruck\">alexwohlbruck</a>.</span>\\n        \\n        <span class=\"site-footer-credits\">This page was generated by <a href=\"https://pages.github.com\">GitHub Pages</a>.</span>\\n      </footer>\\n    </section>\\n\\n    \\n  </body>\\n</html>\\n'"
      ]
     },
     "execution_count": 3,
     "metadata": {},
     "output_type": "execute_result"
    }
   ],
   "source": [
    "import requests\n",
    "\n",
    "r = requests.get('https://alexwohlbruck.github.io/cat-facts/')\n",
    "r.text"
   ]
  },
  {
   "cell_type": "code",
   "execution_count": 0,
   "metadata": {
    "colab": {},
    "colab_type": "code",
    "id": "RPISC-Y4UdOq"
   },
   "outputs": [],
   "source": []
  },
  {
   "cell_type": "code",
   "execution_count": 0,
   "metadata": {
    "colab": {},
    "colab_type": "code",
    "id": "H5EyeQRIUdOr"
   },
   "outputs": [],
   "source": []
  }
 ],
 "metadata": {
  "colab": {
   "name": "homework.ipynb",
   "provenance": []
  },
  "kernelspec": {
   "display_name": "Python 3",
   "language": "python",
   "name": "python3"
  },
  "language_info": {
   "codemirror_mode": {
    "name": "ipython",
    "version": 3
   },
   "file_extension": ".py",
   "mimetype": "text/x-python",
   "name": "python",
   "nbconvert_exporter": "python",
   "pygments_lexer": "ipython3",
   "version": "3.8.3"
  }
 },
 "nbformat": 4,
 "nbformat_minor": 1
}
