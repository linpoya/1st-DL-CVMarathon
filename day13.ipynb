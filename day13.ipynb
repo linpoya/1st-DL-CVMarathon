{
 "cells": [
  {
   "cell_type": "markdown",
   "metadata": {},
   "source": [
    "# PTT 網路爬蟲實作練習\n",
    "\n",
    "\n",
    "* 能夠利用 Request + BeatifulSour 撰寫爬蟲，並存放到合適的資料結構\n"
   ]
  },
  {
   "cell_type": "markdown",
   "metadata": {},
   "source": [
    "## 作業目標\n",
    "\n",
    "根據範例 ，完成以下問題：\n",
    "\n",
    "* ① 印出最新文章的「作者」「標題」「時間」\n",
    "* ② 印出第一頁所有文章的「作者」「標題」「時間」\n"
   ]
  },
  {
   "cell_type": "markdown",
   "metadata": {},
   "source": [
    "### ① 印出最新文章的「作者」「標題」「時間」"
   ]
  },
  {
   "cell_type": "code",
   "execution_count": 9,
   "metadata": {},
   "outputs": [
    {
     "name": "stdout",
     "output_type": "stream",
     "text": [
      "[新聞] 哈登賽後拒絕受訪 恐遭聯盟罰款處分\n",
      "作者: gt097231 (喝不膩的綠茶)\n",
      "(本文已被刪除) [ClownT]\n",
      "[花邊]湖人小將受矚目 詹姆斯：4年前就注意到他\n",
      "作者: godiegroup (mvp)\n",
      "[公告] 板規v6.8\n",
      "[情報] 2020-21 自由球員市場異動 (表格)(12/10)\n",
      "[情報] 2020-21 自由球員市場異動 (每日文字)  \n"
     ]
    }
   ],
   "source": [
    "import requests\n",
    "from bs4 import BeautifulSoup\n",
    "\n",
    "url = 'https://www.ptt.cc/bbs/NBA/index.html'\n",
    "r = requests.get(url)\n",
    "\n",
    "soup = BeautifulSoup(r.text, \"html5lib\")\n",
    "\n",
    "for d in soup.find_all(class_=\"title\"):\n",
    "    print(d.text.replace('\\t', '').replace('\\n', ''))\n",
    "    try:\n",
    "        r = BeautifulSoup(requests.get('https://www.ptt.cc'+d.find('a')['href']).text, \"html5lib\")\n",
    "        print('作者: ' + r.find(class_='article-meta-value').text)\n",
    "   \n",
    "    except:\n",
    "        continue"
   ]
  },
  {
   "cell_type": "markdown",
   "metadata": {},
   "source": [
    "### ② 印出第一頁所有文章的「作者」「標題」「時間」"
   ]
  },
  {
   "cell_type": "code",
   "execution_count": null,
   "metadata": {},
   "outputs": [],
   "source": [
    "'''\n",
    "Your Code\n",
    "'''"
   ]
  },
  {
   "cell_type": "markdown",
   "metadata": {},
   "source": [
    "### ③ 試著爬爬看其他版的文章"
   ]
  },
  {
   "cell_type": "code",
   "execution_count": 4,
   "metadata": {},
   "outputs": [
    {
     "name": "stdout",
     "output_type": "stream",
     "text": [
      "Re: [請益] 台灣前進印度為何不學日韓？\n",
      "作者: aloness (aloness)\n",
      "Re: [標的] 投資美股all in 特斯拉可行嗎？\n",
      "作者: ZMittermeyer (ZM)\n",
      "[標的] Kellogg-US 多\n",
      "作者: threeSecGun (三秒槍)\n",
      "[新聞] 聯電通過286億元預算 擴充南科廠12吋產\n",
      "作者: Juniorlin02 (虛擬是倒吃甘蔗，像花花)\n",
      "[標的] 1434 福懋\n",
      "作者: threeSecGun (三秒槍)\n",
      "[新聞] 台股攻上14300 劉泰英示警：這波上漲不1\n",
      "作者: Cartier (卡帝亞)\n",
      "[活動] 十二月徵文 那些遺留在2020的黑歷史\n",
      "作者: yoche2000 (壽司 不是版是板啦乾)\n",
      "[公告] 十二月除權息法說會行事曆 (每日更新) \n",
      "[公告] Stock 股票板板規 V3 (檢舉洽 yoche2000)\n",
      "[其他] 12/25 台北文青半日遊 小板聚\n",
      "作者: yoche2000 (沒有最佳菜鳥獎嗎)\n",
      "[閒聊] 2020/12/16 盤後閒聊\n",
      "作者: vendan5566 (阿文)\n"
     ]
    }
   ],
   "source": [
    "import requests\n",
    "from bs4 import BeautifulSoup\n",
    "\n",
    "url = 'https://www.ptt.cc/bbs/Stock/index.html'\n",
    "r = requests.get(url)\n",
    "\n",
    "soup = BeautifulSoup(r.text, \"html5lib\")\n",
    "\n",
    "for d in soup.find_all(class_=\"title\"):\n",
    "    print(d.text.replace('\\t', '').replace('\\n', ''))\n",
    "    try:\n",
    "        r = BeautifulSoup(requests.get('https://www.ptt.cc'+d.find('a')['href']).text, \"html5lib\")\n",
    "        print('作者: ' + r.find(class_='article-meta-value').text)\n",
    "    except:\n",
    "        continue"
   ]
  },
  {
   "cell_type": "code",
   "execution_count": null,
   "metadata": {},
   "outputs": [],
   "source": []
  }
 ],
 "metadata": {
  "kernelspec": {
   "display_name": "Python 3",
   "language": "python",
   "name": "python3"
  },
  "language_info": {
   "codemirror_mode": {
    "name": "ipython",
    "version": 3
   },
   "file_extension": ".py",
   "mimetype": "text/x-python",
   "name": "python",
   "nbconvert_exporter": "python",
   "pygments_lexer": "ipython3",
   "version": "3.8.3"
  }
 },
 "nbformat": 4,
 "nbformat_minor": 2
}
